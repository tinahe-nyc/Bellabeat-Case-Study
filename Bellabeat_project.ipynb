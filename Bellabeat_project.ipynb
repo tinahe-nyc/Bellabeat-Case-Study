{
 "cells": [
  {
   "cell_type": "markdown",
   "id": "30bc8e63",
   "metadata": {},
   "source": [
    "## Table of contents: \n",
    "\n",
    "* [1. Background](#step-1)\n",
    "* [2. Ask questions to make data-driven decisions](#step-2)\n",
    "* [3. Prepare data for exploration](#step-3)\n",
    "    * [3.1 Data sources (accessibility, privacy, and licensing)](#step-3.1)\n",
    "    * [3.2 Data integrity](#step-3.2)\n",
    "    * [3.3 Limitations of the datasets](#step-3.3)\n",
    "* [4. Process data from dirty to clean](#step-4)\n",
    "    * [4.1 Combining datasets](#step-4.1)\n",
    "    * [4.2 Filtering out irrelevant information](#step-4.2)\n",
    "    * [4.3 Handling null values](#step-4.3)\n",
    "    * [4.4 Summary of data cleaning steps](#step-4.4)\n",
    "* [5. Ask questions to make data-driven decisions](#step-5)\n",
    "    * [5.1 Step count](#step-5.1)\n",
    "    * [5.2 Active minutes](#step-5.2)\n",
    "    * [5.3 Sleep](#step-5.3)\n",
    "    * [5.4 Activity, sleep, and compliance throughout the week](#step-5.4)\n",
    "    * [5.5 Correlations](#step-5.5)\n",
    "* [6. Conclusions](#step-6)\n",
    "    * [6.1 Summary of findings](#step-6.1)\n",
    "    * [6.2 Top insights and recommendations](#step-6.2)"
   ]
  },
  {
   "cell_type": "markdown",
   "id": "47b5c6d6",
   "metadata": {},
   "source": [
    "## 1. Background <a class=\"anchor\" id=\"step-1\"></a>\n",
    "\n",
    "Bellabeat is a wellness technology company that develops smart products for women. They offer a variety of beautifully designed products that empower women with knowledge about their personal health and habits. Bellabeat has grown rapidly since it was founded in 2013 and has opened offices around the world. \n",
    "\n",
    "The purpose of this case study is to analyze smart device usage to gain insight into how people use their smart devices, discover opportunities for growth, and provide recommendations for Bellabeat's marketing strategy. The analysis will focus on the Bellabeat app, which provides users with health data related to their activity, sleep, and other lifestyle metrics. "
   ]
  },
  {
   "cell_type": "markdown",
   "id": "955071c4",
   "metadata": {},
   "source": [
    "## 2. Ask questions to make data driven-decisions. <a class=\"anchor\" id=\"step-2\"></a>\n",
    "\n",
    "**Business task:**\n",
    "\n",
    "The objectives of this project are to analyze non-Bellabeat fitness tracker data to gain insight into how consumers use smart devices and to provide high-level recommendations for Bellabeat’s marketing strategy. The analysis will focus on the following questions: \n",
    "1. What are some trends in smart device usage?\n",
    "2. How could these trends apply to Bellabeat customers?\n",
    "3. How could these trends help influence Bellabeat marketing strategy?\n",
    "\n",
    "**Stakeholders:**\n",
    "\n",
    "- Urška Sršen: bellabeat’s cofounder and Chief Creative Officer<br>\n",
    "- Sando Mur: Bellabeat’s cofounder and a key member of the executive team<br>\n",
    "- Bellabeat marketing analytics team"
   ]
  },
  {
   "cell_type": "markdown",
   "id": "c2c8d3e2",
   "metadata": {},
   "source": [
    "## 3. Prepare data for exploration. <a class=\"anchor\" id=\"step-3\"></a> \n",
    "\n",
    "\n",
    "**3.1 Data sources (accessibility, privacy, and licensing):** <a class=\"anchor\" id=\"step-3.1\"></a>\n",
    "\n",
    "One of the stakeholders suggested using the [FitBit Fitness Tracker Data](https://www.kaggle.com/datasets/arashnic/fitbit) along with other public datasets. The FitBit Fitness Tracker Data was originally collected and de-identified by [Furberg et al.](https://zenodo.org/record/53894#.X9oeh3Uzaao) for a [pilot study](https://pubmed.ncbi.nlm.nih.gov/28450274/) about the use of fitness trackers in observational studies. It was published on Zenodo and is licensed under [CC BY 4.0](https://creativecommons.org/licenses/by/4.0/).  There are two zip files on Zenodo: one that contains observations from 3/12/16-4/11/16 and another one that contains observations from 4/12/16-5/12/16. They dataset contains information about the daily activity, steps, heart rate, calories burned, and sleep duration of thirty [MTurk](https://www.mturk.com/) fitbit users. But there are several limitations to the dataset: there is a small sample size, it only covers a short timeframe, and there is no demographic information on the users. Because of these limitations, I looked into using other datasets.\n",
    "\n",
    "I found FitBit [activity data](https://drive.google.com/file/d/1osKn9w7kvcankL_vVbqGOngVCS6BDt0B/view) and [sleep data](https://drive.google.com/file/d/1osKn9w7kvcankL_vVbqGOngVCS6BDt0B/view) from the [NetHealth Project](https://drive.google.com/file/d/1osKn9w7kvcankL_vVbqGOngVCS6BDt0B/view) into the analysis. These datasets are publicly accessible and contain information about the daily activity, steps, average daily heart rate, calories burned, and sleep duration of a few hundred Notre Dame undergraduate students from the Fall of 2015 to the Spring of 2019 (Table 1). The researchers used a case identification system to anonymize the data and to assign unique IDs to individuals. \n",
    "\n",
    "I downloaded the two csv files and a file containing [survey data](https://drive.google.com/file/d/1oDsK1C48BjcPTh4cfZXfug2WWb55pvy1/view) from the Notre Dame students, and uploaded them to BigQuery. The survey dataset contains personal history and demographic information from 722 students, some of whom did not participate in the Fitbit study. \n",
    "\n",
    "I ran queries on the activity and sleep datasets to determine the number of individuals in the datasets, determine the number of days each user logged, and determine demographic information. \n",
    "<br><br>\n",
    "\n",
    "--number of distinct user IDs in activity dataset\n",
    "``` mysql \n",
    "SELECT COUNT(DISTINCT(egoid)) AS number_of_users\n",
    "FROM `bellabeat-project-364716.fitbit_data.nethealth_activity`; \n",
    "``` \n",
    "\n",
    "\n",
    "--number of distinct user IDs in sleep dataset\n",
    "``` mysql \n",
    "SELECT COUNT(DISTINCT(egoid)) AS number_of_users\n",
    "FROM `bellabeat-project-364716.fitbit_data.nethealth_sleep`;\n",
    "```\n",
    "\n",
    "\n",
    "--determine the date range of the dataset\n",
    "``` mysql \n",
    "SELECT min(datadate) AS earliest_day, max(datadate) AS latest_day\n",
    "FROM bellabeat-project-364716.fitbit_data.nethealth_activity; \n",
    "```\n",
    "\n",
    "\n",
    "--create table for number of days logged by each user in activity dataset\n",
    "``` mysql \n",
    "CREATE TABLE fitbit_data.activity_days AS ( \n",
    "SELECT  egoid, COUNT(*) AS number_of_days\n",
    "FROM `bellabeat-project-364716.fitbit_data.nethealth_activity` \n",
    "GROUP BY egoid\n",
    "ORDER BY number_of_days); \n",
    "```  \n",
    "\n",
    "\n",
    "--number of days logged by users in sleep dataset\n",
    "``` mysql \n",
    "SELECT * \n",
    "FROM fitbit_data.activity_days;\n",
    "``` \n",
    "\n",
    "--average days logged by the users \n",
    "``` mysql \n",
    "SELECT AVG(number_of_days)\n",
    "FROM fitbit_data.activity_days; \n",
    "``` \n",
    "<br>\n",
    "\n",
    "I ran similar queries for the sleep dataset. \n",
    "\n",
    "There were 623 unique IDs for the activity dataset and 622 unique IDs for the sleep dataset.The date range for the two datasets was 7/24/2015-5/19/2019. For the activity dataset, the minimum number of days a user logged was one day and the maximum was 1,406. For the sleep dataset, the minimum number of days logged was 1 and the maximum was 1,752. The average number of days logged in both datasets was 536. \n",
    "<br><br>\n",
    "\n",
    "**Table 1.** Descriptions of the Notre Dame Fitbit daily activity and sleep datasets.\n",
    "\n",
    "| Csv file                | Description                                                                                                                                                                                    | Number of rows | Format | Number of unique IDs |\n",
    "| :----------------------- | :---------------------------------------------------------------------------------------------------------------------------------------------------------------------------------------------- | :-------------- |:------ | :-------------------- |\n",
    "| FitbitActivity(1-30-20) | Compliance score (calculated as a percentage of each day a person was wearing a Fitbit), daily mean heart rate and its standard deviation, active minutes per day, and calories burned per day | 357827         | long   | 623                  |\n",
    "| FitbitSleep(1-30-20)    | Minutes asleep, minutes in bed, and minutes awake each day                                                                                                                                     | 333708         | long   | 622                  |\n",
    "| NetWorkSurvey(2-28-20)  | Survey data from 722 Notre Dame students. There are over 3,000 variables, including demographic information like gender and race.                                                              | 722            | wide   | 722                  |\n",
    "\n",
    "\n",
    "\n",
    "To determine demographic information of the Notre Dame Fitbit users, I joined the activity dataset with the survey dataset (Table 2). \n",
    "<br>\n",
    "\n",
    "``` mysql\n",
    "CREATE TABLE fitbit_data.notre_dame_demographics AS ( \n",
    "SELECT DISTINCT(nda.egoid), nds.gender_1, nds.race_1 \n",
    "FROM fitbit_data.nethealth_activity AS nda\n",
    "JOIN fitbit_data.nethealth_survey AS nds\n",
    "ON nda.egoid = nds.egoid\n",
    "); \n",
    "\n",
    "SELECT gender_1 AS gender, COUNT(egoid) AS frequency, ROUND((COUNT(egoid)/623)*100,1) AS percent\n",
    "FROM fitbit_data.notre_dame_demographics\n",
    "GROUP BY gender_1;\n",
    " \n",
    "SELECT race_1 AS race, COUNT(egoid) AS frequency, ROUND((COUNT(egoid)/623)*100,1) AS percent\n",
    "FROM fitbit_data.notre_dame_demographics \n",
    "GROUP BY race_1;\n",
    "``` \n",
    "<br>\n",
    " \n",
    "**Table 2.** Demographic information of Notre Dame Fitbit users. \n",
    "    \n",
    "<table align=\"left\">\n",
    " <tr></tr> \n",
    "<tr>\n",
    "<th>Demographic variables</th>\n",
    "<th>Frequency</th>  \n",
    "<th>Percentage</th> \n",
    "</tr>\n",
    "    <tr>     <tr></tr>\n",
    "    <td><b>Gender</b></td>\n",
    "    <td></td>\n",
    "    <td></td>\n",
    "    </tr>  \n",
    "    <tr>\n",
    "        <td>Male</td> \n",
    "        <td>306</td>\n",
    "         <td>50.9  </td> \n",
    "    </tr>\n",
    "    <tr></tr>\n",
    "    <tr>\n",
    "        <td>Female</td> \n",
    "        <td>317</td>\n",
    "         <td>49.1 </td> \n",
    "    </tr>\n",
    "    <tr>    \n",
    "        <td><b>Race</b></td>\n",
    "        <td></td>\n",
    "    <td></td>\n",
    "    </tr>     <tr></tr>\n",
    "    <tr></tr>\n",
    "        <tr>\n",
    "        <td>White</td> \n",
    "        <td>406</td>\n",
    "         <td>65.2  </td> \n",
    "    </tr> <tr></tr>\n",
    "            <tr>\n",
    "        <td>Foreign Student</td> \n",
    "        <td>39</td>\n",
    "         <td>6.3  </td> \n",
    "    </tr> <tr></tr>\n",
    "            <tr>\n",
    "        <td>Latino/a</td> \n",
    "        <td>80</td>\n",
    "         <td>12.8  </td> \n",
    "    </tr> <tr></tr>\n",
    "            <tr>\n",
    "        <td>African American</td> \n",
    "        <td>38</td>\n",
    "         <td>6.1  </td> \n",
    "    </tr> <tr></tr>\n",
    "            <tr>\n",
    "        <td>Asian American</td> \n",
    "        <td>58</td>\n",
    "         <td>9.3  </td> \n",
    "    </tr> <tr></tr>\n",
    "            <tr>\n",
    "        <td>Other</td> \n",
    "        <td>1</td>\n",
    "         <td>0.2  </td> \n",
    "    </tr> <tr></tr>\n",
    "                <tr>\n",
    "        <td>Null</td> \n",
    "        <td>1</td>\n",
    "         <td>0.2  </td> \n",
    "    </tr>\n",
    "</table>\n",
    "\n",
    "<br><br><br><br><br><br><br><br><br><br><br><br><br><br><br>\n",
    "\n",
    "<br>\n",
    "\n",
    "<br><br>\n",
    "<mark style=\"background-color: #FFFF00\">Since Bellabeat's has a female customer base, I will only use female Fitbit users from the Notre Dame datasets in my analysis. </mark>\n",
    "<br><br>\n",
    "\n",
    "**3.2 Data integrity:**  <a class=\"anchor\" id=\"step-3.2\"></a> \n",
    "\n",
    "I used the Sort and Filter tools in Excel to make sure that data points in the Notre Dame datasets were within acceptable ranges: \n",
    "\n",
    "- All the active and sedentary minute columns should have values between 0 and 1440 minutes since there are only 1440 minutes in a day. \n",
    "- Values for sleep duration should also be between 0 and 1440 minutes. \n",
    "- Calories burned should be positive integers since these datasets do not account for caloric intakes. \n",
    "- Steps should be positive integers. \n",
    "- The MTurk datasets should have date ranges from 4/12/2016-5/12/2016 and the Notre Dame datasets should have date ranges from the fall of 2015 to the spring of 2019. \n",
    "\n",
    "Here, I focused on identifying obviously incorrect values. I will be more thorough with removing implausible values in the data cleaning phase (see step 3). \n",
    "\n",
    "Sort allows you to quickly see minimum and maximum values, and Filter gives you a quick overview of all unique values in a column. Using these tools, I confirmed that the data points were within the expected ranges. There were several null values for steps and sedentary/active minutes in the Notre Dame activity dataset, but I will address them during the data-cleaning process. \n",
    "\n",
    "\n",
    "Finally, I used Excel to apply the mm/dd/yyyy format to all date columns to ensure that the formats were consistent. \n",
    "\n",
    "\n",
    "\n",
    "**3.3 Limitations of the Notre Dame datasets:** <a class=\"anchor\" id=\"step-3.3\"></a> \n",
    "\n",
    "- The data is biased towards young, [affluent](https://www.nytimes.com/interactive/projects/college-mobility/notre-dame) undergraduate students from one geographical location. The ages of the individuals in the study are unknown, but it is reasonable to infer that the individuals are mostly college-aged. \n",
    "- The data are from 2019 and are not the most current. \n",
    "- There are missing data for steps and sedentary/active minutes. \n",
    "\n",
    "High quality data sources should be ROCCC (Replicable, Original, Comprehensive, Cited, Current), but the MTurk and Notre Dame datasets do not satisfy all of the criteria. \n",
    "\n",
    "Reliable: No, the Notre Dame data is biased, and insights from an analysis might not be generalizable to Bellabeat users. <br>\n",
    "Original: Yes, the data were validated with the original sources. <br> \n",
    "Comprehensive: Yes. The datasets are relevant to Bellabeat’s apps and devices (e.g. activity and sleep). <br>\n",
    "Cited: Yes, the dataset about Notre Dame students is credited to NetHealth. <br> \n",
    "Current: No, the data are from 2015-2019. \n",
    "\n",
    "Although these datasets have several limitations, we can use them as proxy data and carry out a preliminary analysis since there is no data on Bellabeat users. "
   ]
  },
  {
   "cell_type": "markdown",
   "id": "1f00e76b",
   "metadata": {},
   "source": [
    "## 4. Process data from dirty to clean.  <a class=\"anchor\" id=\"step-4\"></a>\n",
    "\n",
    "To clean the data, I used Excel to remove duplicate rows and to remove extraneous whitespaces. Then, I uploaded the csv files into Python and created dataframes. "
   ]
  },
  {
   "cell_type": "code",
   "execution_count": 291,
   "id": "56e8c682",
   "metadata": {},
   "outputs": [],
   "source": [
    "# import libraries \n",
    "import pandas as pd\n",
    "import numpy as np\n",
    "%matplotlib inline\n",
    "import matplotlib.pyplot as plt\n",
    "import seaborn as sns\n",
    "sns.set_style('white')"
   ]
  },
  {
   "cell_type": "code",
   "execution_count": 249,
   "id": "2c90382e",
   "metadata": {},
   "outputs": [
    {
     "name": "stderr",
     "output_type": "stream",
     "text": [
      "C:\\Users\\Shu\\anaconda3\\lib\\site-packages\\IPython\\core\\interactiveshell.py:3437: DtypeWarning: Columns (314,391,392,789,791,792,1124,1125,1227,1228,1231,1232,1477,1478,1554,1555,1556,1557,1558,1559,1561,1568,1571,1678,1687,1745,1746,1818,1836,1837,1843,1844,1849,1851,1852,1853,2072,2116,2117,2264,2266,2280,2281,2282,2283,2289,2290,2483,2484,2501,2502,2508,2509,2699,2711,2712,2830) have mixed types.Specify dtype option on import or set low_memory=False.\n",
      "  exec(code_obj, self.user_global_ns, self.user_ns)\n"
     ]
    }
   ],
   "source": [
    "# create dataframes from csv files\n",
    "\n",
    "# uploaded Notre Dame activity csv to Google Drive because csv file is too large to upload to Github \n",
    "url='https://drive.google.com/file/d/1IOlhWcMkLxm5izM-N7rrxq2yKM62C8Gb/view?usp=sharing'\n",
    "url='https://drive.google.com/uc?id=' + url.split('/')[-2]\n",
    "notre_dame_activity = pd.read_csv(url, parse_dates = ['datadate'])\n",
    "\n",
    "notre_dame_sleep = pd.read_csv(\"FitbitSleep(1-30-20).csv\", parse_dates = ['dataDate'])\n",
    "\n",
    "notre_dame_survey = pd.read_csv(\"BasicSurvey(3-6-20).csv\")"
   ]
  },
  {
   "cell_type": "markdown",
   "id": "47c38b2f",
   "metadata": {},
   "source": [
    "**4.1 Combining datasets** <a class=\"anchor\" id=\"step-4.1\"></a>"
   ]
  },
  {
   "cell_type": "markdown",
   "id": "205c8452",
   "metadata": {},
   "source": [
    "First, I will combine the activity and sleep datasets based on common egoid and datadate entries."
   ]
  },
  {
   "cell_type": "code",
   "execution_count": 250,
   "id": "144703bb",
   "metadata": {},
   "outputs": [],
   "source": [
    "# inner join on egoid and datadate columns \n",
    "\n",
    "notre_dame_sleep.columns = notre_dame_sleep.columns.str.lower() # change sleep column names to match activity column names\n",
    "\n",
    "activity_sleep = notre_dame_activity.merge(notre_dame_sleep, how='inner', on=['egoid', 'datadate'])"
   ]
  },
  {
   "cell_type": "markdown",
   "id": "f152e12a",
   "metadata": {},
   "source": [
    "Then, I will add a gender column to activity_and_sleep. To do that, I will use the survey dataset to create a dictionary where egoid is the key and gender is the value. "
   ]
  },
  {
   "cell_type": "code",
   "execution_count": 251,
   "id": "744693f3",
   "metadata": {},
   "outputs": [],
   "source": [
    "# create column for gender\n",
    "ego_id = pd.DataFrame(activity_and_sleep['egoid'].unique(), columns=['egoid']) # make dataframe of unique IDs \n",
    "demo = ego_id.merge(notre_dame_survey, how='inner', on=['egoid']) # merge notre_dame_survey with ego_id\n",
    "dict = demo.set_index('egoid').to_dict()['gender_1']  # create a dictionary where id=keys, and gender=values\n",
    "\n",
    "# create an array where gender corresponds to the IDs in notre_dame_activity_clean \n",
    "gender = [dict.get(i) for i in activity_and_sleep['egoid']]\n",
    "\n",
    "# create column for gender of students \n",
    "activity_sleep = activity_sleep.assign(gender=gender)"
   ]
  },
  {
   "cell_type": "markdown",
   "id": "366919b6",
   "metadata": {},
   "source": [
    "**4.2 Filtering out irrelevant information** <a class=\"anchor\" id=\"step-4.2\"></a>\n",
    "\n",
    "I will focus on the steps, active minutes, and sleep habits of female Fitbit users for my analysis, so I will remove irrelevant data.  "
   ]
  },
  {
   "cell_type": "code",
   "execution_count": 252,
   "id": "01f656b4",
   "metadata": {},
   "outputs": [],
   "source": [
    "activity_sleep_clean = activity_sleep.filter(['egoid', 'datadate','complypercent','steps', 'sedentaryminutes',\n",
    "                                                    'lightlyactiveminutes', 'fairlyactiveminutes',\n",
    "                                                    'veryactiveminutes', 'minsasleep','efficiency','gender'])"
   ]
  },
  {
   "cell_type": "code",
   "execution_count": 253,
   "id": "9cb4fb7e",
   "metadata": {},
   "outputs": [],
   "source": [
    "activity_sleep_clean = activity_sleep_clean[(activity_sleep_clean['gender']=='Female')]"
   ]
  },
  {
   "cell_type": "markdown",
   "id": "7d91d86a",
   "metadata": {},
   "source": [
    "**4.3 Handling null values** <a class=\"anchor\" id=\"step-4.3\"></a>\n",
    "<br><br>\n",
    "I will use a summary function to check that the datatypes in each column are appropriate and to identify null values. "
   ]
  },
  {
   "cell_type": "code",
   "execution_count": 254,
   "id": "57b8eefd",
   "metadata": {
    "scrolled": true
   },
   "outputs": [
    {
     "name": "stdout",
     "output_type": "stream",
     "text": [
      "<class 'pandas.core.frame.DataFrame'>\n",
      "Int64Index: 167383 entries, 0 to 332908\n",
      "Data columns (total 11 columns):\n",
      " #   Column                Non-Null Count   Dtype         \n",
      "---  ------                --------------   -----         \n",
      " 0   egoid                 167383 non-null  int64         \n",
      " 1   datadate              167383 non-null  datetime64[ns]\n",
      " 2   complypercent         167383 non-null  int64         \n",
      " 3   steps                 167331 non-null  float64       \n",
      " 4   sedentaryminutes      166574 non-null  float64       \n",
      " 5   lightlyactiveminutes  166574 non-null  float64       \n",
      " 6   fairlyactiveminutes   167380 non-null  float64       \n",
      " 7   veryactiveminutes     166574 non-null  float64       \n",
      " 8   minsasleep            167383 non-null  int64         \n",
      " 9   efficiency            167383 non-null  float64       \n",
      " 10  gender                167383 non-null  object        \n",
      "dtypes: datetime64[ns](1), float64(6), int64(3), object(1)\n",
      "memory usage: 15.3+ MB\n"
     ]
    }
   ],
   "source": [
    "# check datatypes and number of null values for each column\n",
    "\n",
    "activity_sleep_clean.info()\n"
   ]
  },
  {
   "cell_type": "markdown",
   "id": "cf04f8aa",
   "metadata": {},
   "source": [
    "The datasets have appropriate and consistent datatypes in each column, but there are null values in several columns. \n",
    "\n",
    "There are 52 null values in steps; 809 null values in sedentaryminutes, in lightlyactiveminutes, and in veryactiveminutes; and 3 null values in fairlyactiveminutes. [Purta et al.](https://dl.acm.org/doi/10.1145/2971763.2971767) attributed the missing values to syncing issues. If students did not sync their devices with Fitbit cloud in time, data was lost because the Fitbit devices could only store a week's worth of minute-by-minute data. \n",
    "\n",
    "I will drop the rows with null values because the syncing issues compromised the accuracy of the data for those observations. "
   ]
  },
  {
   "cell_type": "code",
   "execution_count": 255,
   "id": "2497be84",
   "metadata": {},
   "outputs": [],
   "source": [
    "activity_sleep_clean = activity_sleep_clean.dropna(axis=0)"
   ]
  },
  {
   "cell_type": "code",
   "execution_count": 256,
   "id": "73d34392",
   "metadata": {},
   "outputs": [
    {
     "data": {
      "text/html": [
       "<div>\n",
       "<style scoped>\n",
       "    .dataframe tbody tr th:only-of-type {\n",
       "        vertical-align: middle;\n",
       "    }\n",
       "\n",
       "    .dataframe tbody tr th {\n",
       "        vertical-align: top;\n",
       "    }\n",
       "\n",
       "    .dataframe thead th {\n",
       "        text-align: right;\n",
       "    }\n",
       "</style>\n",
       "<table border=\"1\" class=\"dataframe\">\n",
       "  <thead>\n",
       "    <tr style=\"text-align: right;\">\n",
       "      <th></th>\n",
       "      <th>egoid</th>\n",
       "      <th>datadate</th>\n",
       "      <th>complypercent</th>\n",
       "      <th>steps</th>\n",
       "      <th>sedentaryminutes</th>\n",
       "      <th>lightlyactiveminutes</th>\n",
       "      <th>fairlyactiveminutes</th>\n",
       "      <th>veryactiveminutes</th>\n",
       "      <th>minsasleep</th>\n",
       "      <th>efficiency</th>\n",
       "      <th>gender</th>\n",
       "    </tr>\n",
       "  </thead>\n",
       "  <tbody>\n",
       "    <tr>\n",
       "      <th>0</th>\n",
       "      <td>44869</td>\n",
       "      <td>2015-07-28</td>\n",
       "      <td>91</td>\n",
       "      <td>4034.0</td>\n",
       "      <td>1034.0</td>\n",
       "      <td>149.0</td>\n",
       "      <td>2.0</td>\n",
       "      <td>12.0</td>\n",
       "      <td>232</td>\n",
       "      <td>0.954733</td>\n",
       "      <td>Female</td>\n",
       "    </tr>\n",
       "    <tr>\n",
       "      <th>1</th>\n",
       "      <td>44869</td>\n",
       "      <td>2015-07-29</td>\n",
       "      <td>97</td>\n",
       "      <td>3702.0</td>\n",
       "      <td>769.0</td>\n",
       "      <td>153.0</td>\n",
       "      <td>0.0</td>\n",
       "      <td>0.0</td>\n",
       "      <td>216</td>\n",
       "      <td>0.935065</td>\n",
       "      <td>Female</td>\n",
       "    </tr>\n",
       "    <tr>\n",
       "      <th>2</th>\n",
       "      <td>44869</td>\n",
       "      <td>2015-07-29</td>\n",
       "      <td>97</td>\n",
       "      <td>3702.0</td>\n",
       "      <td>769.0</td>\n",
       "      <td>153.0</td>\n",
       "      <td>0.0</td>\n",
       "      <td>0.0</td>\n",
       "      <td>267</td>\n",
       "      <td>0.956989</td>\n",
       "      <td>Female</td>\n",
       "    </tr>\n",
       "    <tr>\n",
       "      <th>3</th>\n",
       "      <td>44869</td>\n",
       "      <td>2015-07-30</td>\n",
       "      <td>100</td>\n",
       "      <td>3660.0</td>\n",
       "      <td>795.0</td>\n",
       "      <td>139.0</td>\n",
       "      <td>3.0</td>\n",
       "      <td>18.0</td>\n",
       "      <td>451</td>\n",
       "      <td>0.937630</td>\n",
       "      <td>Female</td>\n",
       "    </tr>\n",
       "    <tr>\n",
       "      <th>4</th>\n",
       "      <td>44869</td>\n",
       "      <td>2015-07-31</td>\n",
       "      <td>80</td>\n",
       "      <td>6016.0</td>\n",
       "      <td>954.0</td>\n",
       "      <td>259.0</td>\n",
       "      <td>0.0</td>\n",
       "      <td>0.0</td>\n",
       "      <td>100</td>\n",
       "      <td>0.925926</td>\n",
       "      <td>Female</td>\n",
       "    </tr>\n",
       "  </tbody>\n",
       "</table>\n",
       "</div>"
      ],
      "text/plain": [
       "   egoid   datadate  complypercent   steps  sedentaryminutes  \\\n",
       "0  44869 2015-07-28             91  4034.0            1034.0   \n",
       "1  44869 2015-07-29             97  3702.0             769.0   \n",
       "2  44869 2015-07-29             97  3702.0             769.0   \n",
       "3  44869 2015-07-30            100  3660.0             795.0   \n",
       "4  44869 2015-07-31             80  6016.0             954.0   \n",
       "\n",
       "   lightlyactiveminutes  fairlyactiveminutes  veryactiveminutes  minsasleep  \\\n",
       "0                 149.0                  2.0               12.0         232   \n",
       "1                 153.0                  0.0                0.0         216   \n",
       "2                 153.0                  0.0                0.0         267   \n",
       "3                 139.0                  3.0               18.0         451   \n",
       "4                 259.0                  0.0                0.0         100   \n",
       "\n",
       "   efficiency  gender  \n",
       "0    0.954733  Female  \n",
       "1    0.935065  Female  \n",
       "2    0.956989  Female  \n",
       "3    0.937630  Female  \n",
       "4    0.925926  Female  "
      ]
     },
     "execution_count": 256,
     "metadata": {},
     "output_type": "execute_result"
    }
   ],
   "source": [
    "activity_sleep_clean.head()"
   ]
  },
  {
   "cell_type": "markdown",
   "id": "5f7b9e5b",
   "metadata": {},
   "source": [
    "**4.4 Summary of data cleaning steps** <a class=\"anchor\" id=\"step-4.4\"></a>\n",
    "\n",
    "FitbitActivity(1-30-20):\n",
    "- Used Remove Duplicates feature in Excel (155 duplicates found and removed)\n",
    "- Used Find and Replace command in Excel to find/remove whitespaces (no whitespaces found)\n",
    "- Created dataframe called “notre_dame_activity” in Python\n",
    "- Inner join with sleep dataset based on egoid and datadate\n",
    "\n",
    "FitbitSleep(1-30-20):\n",
    "- Used Remove Duplicates feature in Excel (no duplicates found)\n",
    "- Used Find and Replace command in Excel to find/remove whitespaces (no whitespaces found)\n",
    "- Created dataframe called “notre_dame_sleep” in Python\n",
    "- Inner join with activity dataset based on egoid and datadate\n",
    "\n",
    "\n",
    "activity_and_sleep:\n",
    "- Added column for gender \n",
    "- Removed rows with null values \n",
    "- Removed columns that won’t be included in analysis (meanrate, sdrate, floors, lowrangemins, fatbunmins, cardiomins, calorie columns)\n",
    "- Removed data from male participants \n"
   ]
  },
  {
   "cell_type": "markdown",
   "id": "ed3d89d9",
   "metadata": {},
   "source": [
    "## 5. Analyze data to answer questions and share data through visualizations <a class=\"anchor\" id=\"step-5\"></a>\n",
    "\n",
    "**5.1 Step count** <a class=\"anchor\" id=\"step-5.1\"></a>\n",
    "\n",
    "The CDC recommends that adults aim for [10,000 steps per day](https://www.cdc.gov/diabetes/prevention/pdf/postcurriculum_session8.pdf). Higher step counts are associated with lower rates of death from cancer and heart disease across age, sex, and race. [Pedro et al.](https://jamanetwork.com/journals/jama/fullarticle/2763292) found that 8,000 steps per day was associated with a 51% reduced risk for all-cause mortality compared to 4,000 steps per day, and 12,000 steps per day was associated with a 65% reduced risk compared to 4,000 steps.\n",
    "\n",
    "\n",
    "\n",
    "\n",
    "\n",
    " "
   ]
  },
  {
   "cell_type": "code",
   "execution_count": 257,
   "id": "21503b10",
   "metadata": {},
   "outputs": [
    {
     "data": {
      "text/plain": [
       "count    166525.000000\n",
       "mean      11346.400595\n",
       "std        5702.310410\n",
       "min           4.000000\n",
       "25%        7370.000000\n",
       "50%       10927.000000\n",
       "75%       14642.000000\n",
       "max       64226.000000\n",
       "Name: steps, dtype: float64"
      ]
     },
     "execution_count": 257,
     "metadata": {},
     "output_type": "execute_result"
    }
   ],
   "source": [
    "activity_sleep_clean['steps'].describe() # summary statistics for step count"
   ]
  },
  {
   "cell_type": "markdown",
   "id": "1aa4af12",
   "metadata": {},
   "source": [
    "In the activity dataset, the minimum number of steps is 4, the mean is 11,340, the median is 10,918, and the maximum is 64,226. To gain more insight about step count, we should look at a distribution of average step counts for each user. "
   ]
  },
  {
   "cell_type": "code",
   "execution_count": 301,
   "id": "af6f574a",
   "metadata": {},
   "outputs": [
    {
     "data": {
      "image/png": "[encoded data removed]",
      "text/plain": [
       "<Figure size 432x288 with 1 Axes>"
      ]
     },
     "metadata": {},
     "output_type": "display_data"
    }
   ],
   "source": [
    "# Plot distribution for average daily steps of the Fitbit users\n",
    "plt.hist(activity_sleep_clean.groupby('egoid')['steps'].mean(), bins=30) # calculate average steps for each ID and plot histogram of the averages\n",
    "plt.title('Distribution of average daily steps') \n",
    "plt.show()"
   ]
  },
  {
   "cell_type": "code",
   "execution_count": 259,
   "id": "bb5aeba6",
   "metadata": {},
   "outputs": [
    {
     "data": {
      "text/plain": [
       "68.0379746835443"
      ]
     },
     "execution_count": 259,
     "metadata": {},
     "output_type": "execute_result"
    }
   ],
   "source": [
    "# percent of users that take an average of 10,000 or more steps/day\n",
    "avg_daily_steps = activity_sleep_clean.groupby('egoid')['steps'].mean() # average daily steps for each user \n",
    "count = sum([i >= 10000 for i in avg_daily_steps])  # number of individuals who, on average, take 10,000 or more steps/day\n",
    "\n",
    "count/len(avg_daily_steps)*100 # percent of users that take an average of 10,000 or more steps/day"
   ]
  },
  {
   "cell_type": "code",
   "execution_count": 260,
   "id": "700e2b34",
   "metadata": {},
   "outputs": [
    {
     "data": {
      "text/plain": [
       "11288.03070814725"
      ]
     },
     "execution_count": 260,
     "metadata": {},
     "output_type": "execute_result"
    }
   ],
   "source": [
    "activity_sleep_clean.groupby('egoid')['steps'].mean().median() # median of the average daily steps"
   ]
  },
  {
   "cell_type": "markdown",
   "id": "83b07c2c",
   "metadata": {},
   "source": [
    "68.0 % of the Fitbit users had an average daily step count of 10,000 or more, and the median number of daily steps was 11,288. These values were somewhat unexpected since the average American only walks around [5,000 steps per day](https://journals.lww.com/acsm-msse/Fulltext/2010/10000/Pedometer_Measured_Physical_Activity_and_Health.4.aspx), but it's possible that Notre Dame students get unusually high step counts from walking around campus. \n",
    "\n",
    "--\n",
    "\n",
    "We can use step counts to categorize Fitbit users by [physical activity status](https://pubmed.ncbi.nlm.nih.gov/14715035/):  \n",
    "- <5,000 steps/day: sedentary\n",
    "- 5,000-7,499 steps/day: low active\n",
    "- 7,500-9,999 steps/day: somewhat active\n",
    "- 10,000 steps/day: active\n",
    "- 12,500 steps/day: highly active"
   ]
  },
  {
   "cell_type": "code",
   "execution_count": 261,
   "id": "bd6f30d7",
   "metadata": {},
   "outputs": [],
   "source": [
    "sedentary = len([i for i in avg_daily_steps if i < 5000])  # count number of values where daily steps < 5000\n",
    "low_active = len([i for i in avg_daily_steps if i >= 5000 if i <= 7499 ])\n",
    "somewhat_active = len([i for i in avg_daily_steps if i >= 7500 if i <= 9999])\n",
    "active = len([i for i in avg_daily_steps if i >= 10000 if i < 12000])\n",
    "highly_active = len([i for i in avg_daily_steps if i >= 12000])"
   ]
  },
  {
   "cell_type": "code",
   "execution_count": 262,
   "id": "4837eff9",
   "metadata": {},
   "outputs": [
    {
     "data": {
      "image/png": "[encoded data removed]",
      "text/plain": [
       "<Figure size 432x288 with 1 Axes>"
      ]
     },
     "metadata": {},
     "output_type": "display_data"
    }
   ],
   "source": [
    "active_status = ['sedentary', 'low active', 'somewhat active', 'active', 'highly active']\n",
    "percent_of_users = (np.array([sedentary, low_active, somewhat_active, active, highly_active])/activity_sleep_clean['egoid'].nunique())*100\n",
    "plt.pie(percent_of_users, labels=active_status, autopct='%.0f%%', radius=1.5) # plot pie chart of the active status of users\n",
    "plt.show()"
   ]
  },
  {
   "cell_type": "markdown",
   "id": "f9e1f577",
   "metadata": {},
   "source": [
    "37% of the Fitbit users were highly active, 31% were active, 26% were somewhat active, 6% were low active, and 1% were sedentary. "
   ]
  },
  {
   "cell_type": "markdown",
   "id": "6cb2ed33",
   "metadata": {},
   "source": [
    "**5.2 Active minutes** <a class=\"anchor\" id=\"step-5.2\"></a>\n",
    "\n",
    "The [World Health Organization](https://www.who.int/news-room/fact-sheets/detail/physical-activity) and the [Centers for Disease Control](https://www.cdc.gov/physicalactivity/basics/adults/index.htm) (CDC) recommend 150 minutes of moderate-to-vigorous physical activity (MVPA) per week for adults. \n",
    "\n",
    "The intensity of physical activity is measured in terms of [metabolic equivalents (METs)](https://www.hsph.harvard.edu/obesity-prevention-source/moderate-and-vigorous-physical-activity/). METs indicate the relative rate at which a person burns calories during an activity:  \n",
    "- Sedentary: Uses 1.5 or fewer METs. Examples are sitting, reclining, or lying down.\n",
    "- Light intensity: Uses from 1.6-3.0 METs. Examples are walking at a leisurely pace or standing in line at the store.\n",
    "- Moderate intensity: Uses from 3.0-6.0 METs. Examples are walking briskly (4 mph), vacuuming, or raking leaves.\n",
    "- Vigorous intensity: Uses from 6.0+ METs. Examples are walking very quickly, jogging (6 mph) running, aerobics class, or shoveling snow. \n",
    "\n",
    "Fitbit logs [active minutes](https://help.fitbit.com/articles/en_US/Help_article/1379.htm) after an individual spends at least 10 consecutive minutes in an activity at or above 3 METs. Fitbit defines ['fairly active minutes'](https://www.fitabase.com/media/1930/fitabasedatadictionary102320.pdf) as total minutes spent in moderate intensity during an activity, and defines 'very active minutes' as total minutes spent during a vigorous intensity activity.\n",
    "\n",
    "__\n",
    "\n",
    "Let's determine the percentage of the Fitbit users that get the recommended amount of MVPA. "
   ]
  },
  {
   "cell_type": "code",
   "execution_count": 263,
   "id": "6df429cd",
   "metadata": {},
   "outputs": [],
   "source": [
    "# create columns for year, week number, and mvpa minutes (fairly active minutes + very active minutes)\n",
    "activity_sleep_clean['year'] = activity_sleep_clean['datadate'].dt.year\n",
    "activity_sleep_clean['week'] =  activity_sleep_clean['datadate'].dt.isocalendar()['week']\n",
    "activity_sleep_clean['mvpaminutes'] = activity_sleep_clean['fairlyactiveminutes']+activity_sleep_clean['veryactiveminutes']"
   ]
  },
  {
   "cell_type": "code",
   "execution_count": 264,
   "id": "1637be3e",
   "metadata": {},
   "outputs": [],
   "source": [
    "# average weekly MVPA for each user \n",
    "weekly_mvpa = np.array([activity_sleep_clean.groupby(['egoid', 'year', 'week'])['mvpaminutes'].sum()[i].mean() for i in activity_sleep_clean['egoid'].unique()])"
   ]
  },
  {
   "cell_type": "code",
   "execution_count": 293,
   "id": "e544a846",
   "metadata": {},
   "outputs": [
    {
     "data": {
      "image/png": "[encoded data removed]",
      "text/plain": [
       "<Figure size 432x288 with 1 Axes>"
      ]
     },
     "metadata": {},
     "output_type": "display_data"
    }
   ],
   "source": [
    "plt.hist(weekly_mvpa, bins=8) # plot the distribution of average weekly MVPA \n",
    "plt.axvline(x=150,color='r', linewidth=1.5) # plot line at x= 150 minutes\n",
    "plt.title('Distribution of MVPA minutes')\n",
    "plt.xlabel('MVPA minutes')\n",
    "plt.show()"
   ]
  },
  {
   "cell_type": "code",
   "execution_count": 266,
   "id": "13bc56c0",
   "metadata": {},
   "outputs": [
    {
     "data": {
      "text/plain": [
       "83.22784810126582"
      ]
     },
     "execution_count": 266,
     "metadata": {},
     "output_type": "execute_result"
    }
   ],
   "source": [
    "# calculate the percent of people who get sufficient MVPA each week\n",
    "mvpa_count = sum([i > 150 for i in weekly_mvpa])\n",
    "(mvpa_count/len(weekly_mvpa))*100  # percent of people who meet the WHO and CDC guidelines for MVPA "
   ]
  },
  {
   "cell_type": "markdown",
   "id": "20436cb6",
   "metadata": {},
   "source": [
    "83.2% of the Fitbit users get at least 150 minutes of weekly MVPA. "
   ]
  },
  {
   "cell_type": "markdown",
   "id": "d9f3b35f",
   "metadata": {},
   "source": [
    "**5.3 Sleep** <a class=\"anchor\" id=\"step-5.3\"></a>\n",
    "\n",
    "The CDC recommends [7 or more hours of sleep]((https://www.cdc.gov/sleep/about_sleep/how_much_sleep.html) for adults. "
   ]
  },
  {
   "cell_type": "code",
   "execution_count": 267,
   "id": "953fbb66",
   "metadata": {},
   "outputs": [
    {
     "data": {
      "text/plain": [
       "count    166525.000000\n",
       "mean        382.173758\n",
       "std         141.656396\n",
       "min           1.000000\n",
       "25%         318.000000\n",
       "50%         410.000000\n",
       "75%         476.000000\n",
       "max        1295.000000\n",
       "Name: minsasleep, dtype: float64"
      ]
     },
     "execution_count": 267,
     "metadata": {},
     "output_type": "execute_result"
    }
   ],
   "source": [
    "activity_sleep_clean.describe()['minsasleep']"
   ]
  },
  {
   "cell_type": "markdown",
   "id": "e344c7ed",
   "metadata": {},
   "source": [
    "In the sleep dataset, the minimum number of minutes asleep is 1, the mean is 382, the median is 410, and the max is 1,295. "
   ]
  },
  {
   "cell_type": "code",
   "execution_count": 268,
   "id": "4abb9cb3",
   "metadata": {},
   "outputs": [],
   "source": [
    "# calculate the average minutes slept for each user \n",
    "avg_daily_sleep = activity_sleep_clean.groupby('egoid')['minsasleep'].mean()"
   ]
  },
  {
   "cell_type": "code",
   "execution_count": 295,
   "id": "2e397e90",
   "metadata": {},
   "outputs": [
    {
     "data": {
      "image/png": "[encoded data removed]",
      "text/plain": [
       "<Figure size 432x288 with 1 Axes>"
      ]
     },
     "metadata": {},
     "output_type": "display_data"
    }
   ],
   "source": [
    "plt.hist(avg_daily_sleep)\n",
    "plt.axvline(x=420,color='r', linewidth=1.5)\n",
    "plt.title('Distribution of average daily sleep') \n",
    "plt.xlabel('Minutes asleep')\n",
    "plt.ylabel('Frequency')\n",
    "plt.show()"
   ]
  },
  {
   "cell_type": "code",
   "execution_count": 270,
   "id": "c829269e",
   "metadata": {},
   "outputs": [
    {
     "data": {
      "text/plain": [
       "16.455696202531644"
      ]
     },
     "execution_count": 270,
     "metadata": {},
     "output_type": "execute_result"
    }
   ],
   "source": [
    "# percent of users that get the recommended 7 hours of sleep\n",
    "(len([i for i in avg_daily_sleep if i >= 420])/len(avg_daily_sleep))*100"
   ]
  },
  {
   "cell_type": "markdown",
   "id": "29b8c03a",
   "metadata": {},
   "source": [
    "Only 16.5% of the Fitbit users get the recommended amount of sleep. This result is unsurprising, considering that most of the sample consists of college students. Furthermore, the CDC estimates that [1 in 3 adults don't get enough sleep](https://www.cdc.gov/media/releases/2016/p0215-enough-sleep.html). "
   ]
  },
  {
   "cell_type": "markdown",
   "id": "4b890e92",
   "metadata": {},
   "source": [
    "**5.4 Activity, sleep, and compliance throughout the week** <a class=\"anchor\" id=\"step-5.4\"></a>\n",
    "\n",
    "Activity:"
   ]
  },
  {
   "cell_type": "code",
   "execution_count": 271,
   "id": "919ab5b1",
   "metadata": {},
   "outputs": [],
   "source": [
    "activity_sleep_clean['dayofweek'] = activity_sleep_clean['datadate'].dt.day_name() # create a column for day of the week \n",
    "days_of_week = ['Monday', 'Tuesday', 'Wednesday', 'Thursday', 'Friday', 'Saturday', 'Sunday']"
   ]
  },
  {
   "cell_type": "code",
   "execution_count": 272,
   "id": "94ac9a44",
   "metadata": {},
   "outputs": [],
   "source": [
    "avg_daily_steps = activity_sleep_clean.groupby(['dayofweek', 'egoid'])['steps'].mean() # average daily steps of each user for each day of the week\n",
    "avg_daily_mvpa = activity_sleep_clean.groupby(['dayofweek', 'egoid'])['mvpaminutes'].mean() # average daily mvpa of each user for each day of the week"
   ]
  },
  {
   "cell_type": "code",
   "execution_count": 296,
   "id": "5e645960",
   "metadata": {},
   "outputs": [
    {
     "data": {
      "image/png": "[encoded data removed]",
      "text/plain": [
       "<Figure size 720x288 with 2 Axes>"
      ]
     },
     "metadata": {},
     "output_type": "display_data"
    }
   ],
   "source": [
    "# Steps throughout the week\n",
    "fig, (ax1, ax2) = plt.subplots(nrows=1, ncols=2, figsize=(10,4))\n",
    "fig.tight_layout()\n",
    "ax1.boxplot([avg_daily_steps[i] for i in days_of_week], labels=days_of_week, flierprops={'markersize':1})\n",
    "ax1.set_title('Steps throughout the week')\n",
    "ax1.axhline(y=10000, alpha=0.5)\n",
    "ax1.tick_params(axis='x', rotation=70)\n",
    "\n",
    "# MVPA throughout the week  \n",
    "ax2.boxplot([avg_daily_mvpa[i] for i in days_of_week], labels=days_of_week, flierprops={'markersize':1})\n",
    "ax2.set_title('MVPA throughout the week')\n",
    "ax2.tick_params(axis='x', rotation=70)\n",
    "plt.subplots_adjust(wspace=0.25)\n",
    "plt.show()"
   ]
  },
  {
   "cell_type": "markdown",
   "id": "f16ee469",
   "metadata": {},
   "source": [
    "The upper whisker boundary is the largest data point within 1.5 interquartile range (IQR) above the third quartile. The lower whisker boundary is the smallest data point within 1.5 IQR below the first quartile"
   ]
  },
  {
   "cell_type": "code",
   "execution_count": 274,
   "id": "7bd15bf9",
   "metadata": {},
   "outputs": [],
   "source": [
    "# create dictionary to show median steps for each day of the week \n",
    "steps_dict = {}\n",
    "steps_values = [avg_daily_steps[i].median() for i in days_of_week] # make list of median steps for each day of the week\n",
    "steps_dict = {days_of_week[i]: steps_values[i] for i in range(0,7)} # assign the medians to the corresponding day of the week"
   ]
  },
  {
   "cell_type": "code",
   "execution_count": 275,
   "id": "d88adbf2",
   "metadata": {},
   "outputs": [
    {
     "data": {
      "text/plain": [
       "{'Monday': 11296.892857142857,\n",
       " 'Tuesday': 11111.66369047619,\n",
       " 'Wednesday': 11376.598445753141,\n",
       " 'Thursday': 11371.015789473684,\n",
       " 'Friday': 12078.631588999237,\n",
       " 'Saturday': 11495.410119047618,\n",
       " 'Sunday': 9522.5625}"
      ]
     },
     "execution_count": 275,
     "metadata": {},
     "output_type": "execute_result"
    }
   ],
   "source": [
    "steps_dict  # display median steps for each day of the week "
   ]
  },
  {
   "cell_type": "markdown",
   "id": "07df29cd",
   "metadata": {},
   "source": [
    "Median values are reported since the data distribution is skewed. \n",
    "\n",
    "Friday had the highest median steps, while Sunday had the lowest. Sunday was the only day that had a median value lower than the recommended 10,000 steps. "
   ]
  },
  {
   "cell_type": "code",
   "execution_count": 276,
   "id": "64422cb2",
   "metadata": {},
   "outputs": [],
   "source": [
    "# create dictionary to show median MVPA minutes for each day of the week \n",
    "mvpa_dict = {}\n",
    "mvpa_values = [avg_daily_mvpa[i].median() for i in days_of_week] # make list of median MVPA minutes for each day of the week\n",
    "mvpa_dict = {days_of_week[i]: mvpa_values[i] for i in range(0,7)} # assign the medians to the corresponding day of the week"
   ]
  },
  {
   "cell_type": "code",
   "execution_count": 277,
   "id": "504c85ed",
   "metadata": {},
   "outputs": [
    {
     "data": {
      "text/plain": [
       "{'Monday': 44.0,\n",
       " 'Tuesday': 45.97418719211823,\n",
       " 'Wednesday': 44.65714285714286,\n",
       " 'Thursday': 45.684210526315795,\n",
       " 'Friday': 48.36134934248142,\n",
       " 'Saturday': 47.94886363636364,\n",
       " 'Sunday': 35.845454545454544}"
      ]
     },
     "execution_count": 277,
     "metadata": {},
     "output_type": "execute_result"
    }
   ],
   "source": [
    "mvpa_dict # display median MVPA minutes for each day of the week "
   ]
  },
  {
   "cell_type": "markdown",
   "id": "85261db8",
   "metadata": {},
   "source": [
    "Friday had the highest median MVPA minutes and Sunday had the lowest. "
   ]
  },
  {
   "cell_type": "code",
   "execution_count": 278,
   "id": "fa3eaa9c",
   "metadata": {},
   "outputs": [],
   "source": [
    "activity_sleep_clean['dayofweek'] = activity_sleep_clean['datadate'].dt.day_name()  # create a column for day of the week "
   ]
  },
  {
   "cell_type": "code",
   "execution_count": 279,
   "id": "9a082fc1",
   "metadata": {},
   "outputs": [],
   "source": [
    "avg_daily_sleep = activity_sleep_clean.groupby(['dayofweek', 'egoid'])['minsasleep'].mean() # average minutes asleep for each ID on each day of the week"
   ]
  },
  {
   "cell_type": "markdown",
   "id": "321899ec",
   "metadata": {},
   "source": [
    "Sleep:"
   ]
  },
  {
   "cell_type": "code",
   "execution_count": 297,
   "id": "252b8a2f",
   "metadata": {},
   "outputs": [
    {
     "data": {
      "image/png": "[encoded data removed]",
      "text/plain": [
       "<Figure size 432x288 with 1 Axes>"
      ]
     },
     "metadata": {},
     "output_type": "display_data"
    }
   ],
   "source": [
    "# sleep throughout the week \n",
    "plt.boxplot([avg_daily_sleep[i] for i in days_of_week], labels=days_of_week, flierprops={'markersize':1})\n",
    "plt.xticks(rotation=70)\n",
    "plt.axhline(y=420, alpha=0.5)\n",
    "plt.title('Sleep throughout the week')\n",
    "plt.show()"
   ]
  },
  {
   "cell_type": "code",
   "execution_count": 281,
   "id": "54e0a539",
   "metadata": {},
   "outputs": [],
   "source": [
    "# create dictionary to show median minutes asleep for each day of the week \n",
    "sleep_dict = {}\n",
    "sleep_values = [avg_daily_sleep[i].median() for i in days_of_week] # make list of median min asleep for each day of the week\n",
    "sleep_dict = {days_of_week[i]: sleep_values[i] for i in range(0,7)} # assign the medians to the corresponding day of the week"
   ]
  },
  {
   "cell_type": "code",
   "execution_count": 282,
   "id": "4272613c",
   "metadata": {},
   "outputs": [
    {
     "data": {
      "text/plain": [
       "{'Monday': 374.2463768115942,\n",
       " 'Tuesday': 379.31036176133574,\n",
       " 'Wednesday': 377.0,\n",
       " 'Thursday': 377.8318729463308,\n",
       " 'Friday': 365.98511904761904,\n",
       " 'Saturday': 386.1034110535406,\n",
       " 'Sunday': 400.0421052631579}"
      ]
     },
     "execution_count": 282,
     "metadata": {},
     "output_type": "execute_result"
    }
   ],
   "source": [
    "sleep_dict # display median minutes asleep for each day of the week "
   ]
  },
  {
   "cell_type": "markdown",
   "id": "68587402",
   "metadata": {},
   "source": [
    "Sunday had the highest median number of minutes asleep; Friday had the lowest. The median values for each day of the week were all below the recommended 420 hours of sleep. "
   ]
  },
  {
   "cell_type": "markdown",
   "id": "dae3513f",
   "metadata": {},
   "source": [
    "Compliance: "
   ]
  },
  {
   "cell_type": "code",
   "execution_count": 287,
   "id": "721be549",
   "metadata": {},
   "outputs": [
    {
     "data": {
      "image/png": "[encoded data removed]",
      "text/plain": [
       "<Figure size 432x288 with 1 Axes>"
      ]
     },
     "metadata": {},
     "output_type": "display_data"
    }
   ],
   "source": [
    "avg_comply_percent = activity_sleep_clean.groupby(['dayofweek', 'egoid'])['complypercent'].mean() \n",
    "\n",
    "plt.boxplot([avg_comply_percent[i] for i in days_of_week], labels=days_of_week, flierprops={'markersize':1})\n",
    "plt.xticks(rotation=70)\n",
    "plt.title('Compliance throughout the week')\n",
    "plt.show()"
   ]
  },
  {
   "cell_type": "code",
   "execution_count": 284,
   "id": "cbe88307",
   "metadata": {},
   "outputs": [],
   "source": [
    "# create dictionary to show median minutes asleep for each day of the week \n",
    "comply_dict = {}\n",
    "comply_values = [avg_comply_percent[i].median() for i in days_of_week] # make list of median min asleep for each day of the week\n",
    "comply_dict = {days_of_week[i]: comply_values[i] for i in range(0,7)} # assign the medians to the corresponding day of the week"
   ]
  },
  {
   "cell_type": "code",
   "execution_count": 285,
   "id": "ac74bf7d",
   "metadata": {},
   "outputs": [
    {
     "data": {
      "text/plain": [
       "{'Monday': 91.22772277227723,\n",
       " 'Tuesday': 91.63979416809605,\n",
       " 'Wednesday': 92.04257246376812,\n",
       " 'Thursday': 91.22955647955649,\n",
       " 'Friday': 90.41452991452991,\n",
       " 'Saturday': 89.35521885521885,\n",
       " 'Sunday': 89.69072164948453}"
      ]
     },
     "execution_count": 285,
     "metadata": {},
     "output_type": "execute_result"
    }
   ],
   "source": [
    "comply_dict"
   ]
  },
  {
   "cell_type": "markdown",
   "id": "287f29eb",
   "metadata": {},
   "source": [
    "[Compliance](http://sites.nd.edu/nethealth/fitbit-data/) refers to the percentage of the day that users wore their Fitbits. Saturday and Sunday had the lowest median compliance rates, while Wednesday had the highest. But overall, median compliance scores were similar throughout the week."
   ]
  },
  {
   "cell_type": "markdown",
   "id": "6d4ae098",
   "metadata": {},
   "source": [
    "**5.5 Correlations** <a class=\"anchor\" id=\"step-5.5\"></a>"
   ]
  },
  {
   "cell_type": "markdown",
   "id": "a2b7a1ae",
   "metadata": {},
   "source": [
    "Finally, I will plot a correlation matrix to determine whether certain variables are correlated. "
   ]
  },
  {
   "cell_type": "code",
   "execution_count": 288,
   "id": "5535def4",
   "metadata": {},
   "outputs": [
    {
     "data": {
      "image/png": "[encoded data removed]",
      "text/plain": [
       "<Figure size 720x504 with 2 Axes>"
      ]
     },
     "metadata": {},
     "output_type": "display_data"
    }
   ],
   "source": [
    "df = activity_sleep_clean.drop(columns=['egoid', 'year', 'week']) # filter out variables \n",
    "\n",
    "matrix = df.corr('pearson').round(2)\n",
    "sns.set(rc={'figure.figsize':(10,7)})\n",
    "sns.heatmap(matrix, annot=True)\n",
    "plt.show()"
   ]
  },
  {
   "cell_type": "markdown",
   "id": "1f38c4ab",
   "metadata": {},
   "source": [
    "The Pearson correlation coefficient (r) measures the strength and direction of the relationship between two variables. The relationship between two variables is considered strong when r is larger than 0.7. The following variables were strongly correlated: \n",
    "* steps and MVPA minutes\n",
    "* steps and very active minutes\n",
    "\n",
    "The association between steps and MVPA minutes suggests that walking can be used to meet the MVPA guidelines. Instead of trying to meet walking guidelines and MVPA guidelines separately, individuals can walk to achieve both goals. \n",
    "\n",
    "Note: There are strong correlations between MVPA minutes and fairly active minutes, and between MVPA minutes and very active minutes. But this is expected since MVPA minutes are calculated as the sum of sedentary minutes and active minutes. "
   ]
  },
  {
   "cell_type": "markdown",
   "id": "798b5b23",
   "metadata": {},
   "source": [
    "## 6. Conclusions  <a class=\"anchor\" id=\"step-6\"></a>\n",
    "\n",
    "**6.1 Summary of findings** <a class=\"anchor\" id=\"step-6.1\"></a>\n",
    "- Most of the Fitbit users got the recommended number of daily steps and weekly amount of MVPA. 68.3% of the users had average step count of 10,000 or greater, and 83.2% averaged at least 150 minutes of weekly MVPA. \n",
    "- Based on average daily step counts, 68% of the Fitbit users were considered active or highly active, 26% were considered somewhat active, and 7% were considered low active or sedentary. \n",
    "- Only 16.5% of the Fitbit users got the recommended amount of sleep. \n",
    "- There was a positive correlation between steps and MVPA minutes.  \n",
    "\n",
    "**6.2 Top insights and recommendations** <a class=\"anchor\" id=\"step-6.2\"></a>\n",
    "- The samples in this analysis may not be representative of Bellabeat's users, so Bellabeat should request permission to collect data from its customers and conduct another analysis. \n",
    "- Marketing should focus on how the Bellabeat app will keep users accountable for healthy habits and fitness goals. \n",
    "- Encourage users to walk. Higher step counts help users meet the recommended weekly 150 minutes of MVPA. Sufficient MVPA is associated with lower risk of all-cause mortality.\n",
    "- Incentivize less active users to walk more by offering discounts for products or by sending notifications. For example, Bellabeat can send exercise reminders near the end of the week if the user has not accumulated sufficient MVPA minutes. Bellabeat can also offer discounts to low active or sedentary users who improve their habits and consistently rank as active for a specified duration of time. \n",
    "- Marketing should also focus on how the Bellabeat app can help users improve sleep by offering meditations and breathing exercises. \n"
   ]
  }
 ],
 "metadata": {
  "kernelspec": {
   "display_name": "Python 3",
   "language": "python",
   "name": "python3"
  },
  "language_info": {
   "codemirror_mode": {
    "name": "ipython",
    "version": 3
   },
   "file_extension": ".py",
   "mimetype": "text/x-python",
   "name": "python",
   "nbconvert_exporter": "python",
   "pygments_lexer": "ipython3",
   "version": "3.8.8"
  }
 },
 "nbformat": 4,
 "nbformat_minor": 5
}
